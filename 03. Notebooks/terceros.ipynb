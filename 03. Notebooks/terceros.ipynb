{
 "cells": [
  {
   "cell_type": "code",
   "execution_count": 1,
   "metadata": {},
   "outputs": [],
   "source": [
    "import pandas as pd\n",
    "import numpy as np\n",
    "from openpyxl import load_workbook\n",
    "import glob\n",
    "import re\n",
    "import warnings\n",
    "from unicodedata import normalize"
   ]
  },
  {
   "cell_type": "markdown",
   "metadata": {},
   "source": [
    "# Archivos Terceros Nuevos"
   ]
  },
  {
   "cell_type": "markdown",
   "metadata": {},
   "source": [
    "### Importación de Archivos"
   ]
  },
  {
   "cell_type": "code",
   "execution_count": 2,
   "metadata": {},
   "outputs": [],
   "source": [
    "# Archivos terceros nuevos\n",
    "all_files1 = glob.glob('01. Input/01. Nuevos/Formato*.XLSX')\n",
    "\n",
    "# Lista para almacenar los DataFrames de los archivos en la ruta\n",
    "dataframes = []\n",
    "\n",
    "# Cargar cada archivo en un DataFrame y agregarlo a la lista\n",
    "for archivo in all_files1:\n",
    "    df = pd.read_excel(archivo)\n",
    "    dataframes.append(df)\n",
    "\n",
    "# Concatenar los DataFrames en uno solo (Archivo para consultar terceros)\n",
    "concatenado = pd.concat(dataframes, ignore_index=True)"
   ]
  },
  {
   "cell_type": "markdown",
   "metadata": {},
   "source": [
    "### Listado Nits Nuevos"
   ]
  },
  {
   "cell_type": "code",
   "execution_count": 3,
   "metadata": {},
   "outputs": [],
   "source": [
    "# Listado de Terceros nuevos\n",
    "nits_nuevos = concatenado.loc[pd.notnull(concatenado['Identificación Fiscal'])]\n",
    "nits_nuevos = nits_nuevos[['Identificación Fiscal']]\n",
    "nits_nuevos.to_csv('02. Output/01.NITS_NUEVOS.csv', index=False)"
   ]
  },
  {
   "cell_type": "markdown",
   "metadata": {},
   "source": [
    "# Archivo Detalle"
   ]
  },
  {
   "cell_type": "markdown",
   "metadata": {},
   "source": [
    "### Importación Archivo Detalle y Homologaciones"
   ]
  },
  {
   "cell_type": "code",
   "execution_count": 4,
   "metadata": {},
   "outputs": [],
   "source": [
    "# Archivo detalle\n",
    "detalle = pd.read_csv('01. Input/02. Creacion Terceros/Creacion de terceros.csv', sep=\";\", dtype=str)\n",
    "detalle = detalle.replace({np.nan: ''})\n",
    "\n",
    "# Tablas homologación Pais y Municipio\n",
    "pais = pd.read_excel('01. Input/Ubicacion.xlsx', sheet_name='Pais', dtype=str)\n",
    "municipio = pd.read_excel('01. Input/Ubicacion.xlsx', sheet_name='Municipio', dtype=str)\n",
    "\n",
    "# Tabla empleados\n",
    "empleados = pd.read_csv('01. Input/Empleados.csv', sep=\";\", dtype=str)"
   ]
  },
  {
   "cell_type": "markdown",
   "metadata": {},
   "source": [
    "### Eliminación de doble espacio"
   ]
  },
  {
   "cell_type": "code",
   "execution_count": 5,
   "metadata": {},
   "outputs": [],
   "source": [
    "# Reemplazar dobles espacios por un solo espacio en todas las columnas\n",
    "detalle.replace(regex=r'\\s{2,}', value=' ', inplace=True)"
   ]
  },
  {
   "cell_type": "markdown",
   "metadata": {},
   "source": [
    "### Eliminar caracteres especiales"
   ]
  },
  {
   "cell_type": "code",
   "execution_count": 6,
   "metadata": {},
   "outputs": [
    {
     "name": "stderr",
     "output_type": "stream",
     "text": [
      "C:\\Users\\sebanapa\\AppData\\Local\\Temp\\ipykernel_8808\\2136005090.py:12: FutureWarning: DataFrame.applymap has been deprecated. Use DataFrame.map instead.\n",
      "  detalle[columnas_especificas] = detalle[columnas_especificas].astype(str).applymap(quitar_caracteres_tildes)\n",
      "C:\\Users\\sebanapa\\AppData\\Local\\Temp\\ipykernel_8808\\2136005090.py:21: FutureWarning: DataFrame.applymap has been deprecated. Use DataFrame.map instead.\n",
      "  detalle[columnas_especificas] = detalle[columnas_especificas].astype(str).applymap(quitar_caracteres_especiales)\n"
     ]
    }
   ],
   "source": [
    "# Lista de columnas a tratar\n",
    "columnas_especificas = ['Acreedor', 'Nombre', 'País', 'Región', 'Calle', 'Conc.búsq.', 'Gr.cuentas', 'Tipo NIF', \\\n",
    "                        'Teléfono', 'Tel. Mo.', 'Fax']\n",
    "\n",
    "# Función para quitar tildes y otros\n",
    "def quitar_caracteres_tildes(texto):\n",
    "\n",
    "    # Utiliza una expresión regular para quitar tildes y otros\n",
    "    return re.sub(r\"([^n\\u0300-\\u036f]|n(?!\\u0303(?![\\u0300-\\u036f])))[\\u0300-\\u036f]+\", r\"\\1\", normalize( \"NFD\", texto), 0, re.I)\n",
    "\n",
    "# Aplica la función solo a las columnas específicas\n",
    "detalle[columnas_especificas] = detalle[columnas_especificas].astype(str).applymap(quitar_caracteres_tildes)\n",
    "\n",
    "# Función para quitar caracteres especiales\n",
    "def quitar_caracteres_especiales(texto):\n",
    "\n",
    "    # Utiliza una expresión regular para quitar caracteres no alfanuméricos\n",
    "    return re.sub(r'[^A-Za-z0-9]+', ' ', str(texto))\n",
    "\n",
    "# Aplica la función solo a las columnas específicas\n",
    "detalle[columnas_especificas] = detalle[columnas_especificas].astype(str).applymap(quitar_caracteres_especiales)"
   ]
  },
  {
   "cell_type": "markdown",
   "metadata": {},
   "source": [
    "### Transformar Tipo NIF"
   ]
  },
  {
   "cell_type": "code",
   "execution_count": null,
   "metadata": {},
   "outputs": [],
   "source": [
    "# Función para determinar el Tipo NIF según caracteristicas del NIF\n",
    "def determinar_tipo_nif(NIF, Tipo_NIF):\n",
    "    nif = str(NIF)\n",
    "    tipo_nif = str(Tipo_NIF)\n",
    "    largo = len(nif)\n",
    "    inicia = nif[0]\n",
    "\n",
    "    # Tipo 11\n",
    "    if tipo_nif == '11':  \n",
    "        if largo == 8 and inicia in ['1','2','3','4','5','6','7']:\n",
    "            return 11\n",
    "        elif largo == 9 and inicia in ['1','2','3','4','5','6','9']:\n",
    "            return 11\n",
    "        elif largo == 10 and inicia in ['1']:\n",
    "            return 11\n",
    "        elif largo == 11 and inicia in ['1']:\n",
    "            return 11\n",
    "        \n",
    "    # Tipo 12   \n",
    "    elif tipo_nif == '12':\n",
    "        if largo == 7 and inicia in ['1','2','8']:\n",
    "            return 12\n",
    "        elif largo == 8 and inicia in ['1', '3', '4', '5']:\n",
    "            return 12\n",
    "        elif largo == 9 and inicia in ['1']:\n",
    "            return 12\n",
    "        elif largo == 10 and inicia in ['1']:\n",
    "            return 12\n",
    "        elif largo == 11 and inicia in ['1']:\n",
    "            return 12\n",
    "    \n",
    "    # Tipo 13\n",
    "    elif tipo_nif == '13':  \n",
    "        if largo == 6 and inicia in ['1','2','3','4','5','6','7','8','9']:\n",
    "            return 13\n",
    "        elif largo == 7 and inicia in ['1','2','3','4','5','6','7','8','9']:\n",
    "            return 13\n",
    "        elif largo == 8 and inicia in ['1','2','3','4','5','6','7','8','9']:\n",
    "            return 13\n",
    "        elif largo == 10 and inicia in ['1','2']:\n",
    "            return 13\n",
    "    \n",
    "    # Tipo 22\n",
    "    elif tipo_nif == '22':\n",
    "        if nif.isdigit():\n",
    "            if largo == 6 and inicia in ['1','2','3','4','5','6','7','8','9']:\n",
    "                return 22\n",
    "            elif largo == 7 and inicia in ['1','2','3','4','5','6','7','8','9']:\n",
    "                return 22\n",
    "            elif largo == 8 and inicia in ['1','2','3','4','5','6','7','8','9']:\n",
    "                return 22\n",
    "\n",
    "    # Tipo 31\n",
    "    elif tipo_nif == '31':\n",
    "        if largo == 10 and inicia in ['8','9']:\n",
    "            return 31\n",
    "    \n",
    "    # Tipo 41\n",
    "    elif tipo_nif == '41':\n",
    "        if nif.isdigit():\n",
    "            if largo == 5 and inicia in ['1','2','3','4','5','6','7','8','9']:\n",
    "                return 41\n",
    "            elif largo == 6 and inicia in ['1','2','3','4','5','6','7','8','9']:\n",
    "                return 41\n",
    "            elif largo == 7 and inicia in ['1','2','3','4','5','6','7','8','9']:\n",
    "                return 41\n",
    "            elif largo == 8 and inicia in ['1','2','3','4','5','6','7','8','9']:\n",
    "                return 41\n",
    "            elif largo == 9 and inicia in ['1','2','3','4','5','6','7','8','9']:\n",
    "                return 41\n",
    "            elif largo == 10 and inicia in ['0','1','2','3','5']:\n",
    "                return 41\n",
    "            elif largo == 11 and inicia in ['1']:\n",
    "                return 41\n",
    "        elif any(caracter.isalpha() for caracter in nif):\n",
    "            if largo == 5:\n",
    "                return 41\n",
    "            elif largo == 6:\n",
    "                return 41\n",
    "            elif largo == 7:\n",
    "                return 41\n",
    "            elif largo == 8:\n",
    "                return 41\n",
    "            elif largo == 9:\n",
    "                return 41\n",
    "            elif largo == 10:\n",
    "                return 41\n",
    "            elif largo == 11:\n",
    "                return 41\n",
    "\n",
    "    # Tipo 42\n",
    "    elif tipo_nif == '42':\n",
    "        return 42\n",
    "\n",
    "    # Tipo 47\n",
    "    elif tipo_nif == '47':\n",
    "        if largo == 6 and inicia in ['5','6','7','8','9']:\n",
    "            return 47\n",
    "        elif largo == 7 and inicia in ['1','2','3','4','5','6','7','8','9']:\n",
    "            return 47\n",
    "        elif largo == 8 and inicia in ['1']:\n",
    "            return 47\n",
    "        elif largo == 9 and inicia in ['9']:\n",
    "            return 47\n",
    "        elif largo == 10 and inicia in ['5']:\n",
    "            return 47\n",
    "        elif largo == 11 and inicia in ['0']:\n",
    "            return 47\n",
    "        elif largo == 12 and inicia in ['1']:\n",
    "            return 47\n",
    "        elif largo == 13 and inicia in ['4']:\n",
    "            return 47\n",
    "        elif largo == 15 and inicia in ['1','2','3','7','8','9']:\n",
    "            return 47\n",
    "\n",
    "    # Tipo 48\n",
    "    elif tipo_nif == '48':\n",
    "        if largo == 6 and inicia in ['5','6','7','8','9']:\n",
    "            return 48\n",
    "        elif largo == 7 and inicia in ['1','2','3','4','5','6']:\n",
    "            return 48\n",
    "        elif largo == 8 and inicia in ['2','4','7']:\n",
    "            return 48\n",
    "        elif largo == 9 and inicia in ['5','6']:\n",
    "            return 48\n",
    "    \n",
    "    return \"I\"\n",
    "\n",
    "# Columna Tipo NIF\n",
    "detalle['Tipo NIF'] = detalle.apply(lambda row: pd.Series(determinar_tipo_nif(row['N.I.F.1'], row['Tipo NIF'])), axis=1)"
   ]
  },
  {
   "cell_type": "code",
   "execution_count": null,
   "metadata": {},
   "outputs": [],
   "source": [
    "# Función para determinar el Tipo NIF según caracteristicas del NIF (2da Validación)\n",
    "def determinar_tipo_nif_2(NIF, Tipo_NIF):\n",
    "    nif = str(NIF)\n",
    "    tipo_nif = str(Tipo_NIF)\n",
    "    largo = len(nif)\n",
    "    inicia = nif[0]\n",
    "\n",
    "    if tipo_nif == 'I':\n",
    "\n",
    "    # Tipo 11\n",
    "        if largo == 9 and inicia in ['1','2','3','4','5','6']:\n",
    "            return 11\n",
    "        elif largo == 11 and inicia in ['1']:\n",
    "            return 11\n",
    "        \n",
    "    # Tipo 13\n",
    "        if largo == 6 and inicia in ['1','2','3','4','5','6','7','8','9']:\n",
    "            return 13\n",
    "        elif largo == 7 and inicia in ['1','2','3','4','5','6','7','8','9']:\n",
    "            return 13\n",
    "        elif largo == 8 and inicia in ['1','2','3','4','5','6','7','8','9']:\n",
    "            return 13\n",
    "        elif largo == 10 and inicia in ['1','2']:\n",
    "            return 13\n",
    "        \n",
    "    # Tipo 31\n",
    "        if largo == 10 and inicia in ['8','9']:\n",
    "            return 31\n",
    "    \n",
    "    # Tipo 47\n",
    "        if largo == 10 and inicia in ['5']:\n",
    "            return 47\n",
    "        elif largo == 11 and inicia in ['0']:\n",
    "            return 47\n",
    "        elif largo == 12 and inicia in ['1']:\n",
    "            return 47\n",
    "        elif largo == 13 and inicia in ['4']:\n",
    "            return 47\n",
    "        elif largo == 15 and inicia in ['1','2','3','7','8','9']:\n",
    "            return 47\n",
    "    \n",
    "    return Tipo_NIF\n",
    "\n",
    "# Columna Tipo NIF (2da Validación)\n",
    "detalle['Tipo NIF'] = detalle.apply(lambda row: pd.Series(determinar_tipo_nif_2(row['N.I.F.1'], row['Tipo NIF'])), axis=1)\n"
   ]
  },
  {
   "cell_type": "markdown",
   "metadata": {},
   "source": [
    "### Tratar columna NIF y extraer DV"
   ]
  },
  {
   "cell_type": "code",
   "execution_count": 7,
   "metadata": {},
   "outputs": [],
   "source": [
    "# Columna Identificación\n",
    "detalle['Identificación(STCD1) (CHAR/000030)'] = np.select(\n",
    "    [detalle['Tipo NIF'] != 31],\n",
    "    [detalle['N.I.F.1']],   \n",
    "    default=detalle['N.I.F.1'].str[:-1]\n",
    ")\n",
    "\n",
    "# Columna Digito Verificación\n",
    "detalle['Dígito Verificación(CODVER) (CHAR/000002)'] = np.select(\n",
    "    [detalle['Tipo NIF'] == 31],\n",
    "    [detalle['N.I.F.1'].str[-1]],\n",
    "    default=\"\"\n",
    ")"
   ]
  },
  {
   "cell_type": "markdown",
   "metadata": {},
   "source": [
    "### Separación de Nombres y Apellidos"
   ]
  },
  {
   "cell_type": "code",
   "execution_count": 8,
   "metadata": {},
   "outputs": [
    {
     "name": "stderr",
     "output_type": "stream",
     "text": [
      "C:\\Users\\sebanapa\\AppData\\Local\\Temp\\ipykernel_8808\\3800240218.py:160: FutureWarning: DataFrame.applymap has been deprecated. Use DataFrame.map instead.\n",
      "  detalle[['Nombre 1(NAME1) (CHAR/000060)', 'Nombre 2(NAME2) (CHAR/000060)', 'Apellido 1(APEL1) (CHAR/000060)', 'Apellido 2(APEL2) (CHAR/000060)']] = detalle[['Nombre 1(NAME1) (CHAR/000060)', 'Nombre 2(NAME2) (CHAR/000060)', 'Apellido 1(APEL1) (CHAR/000060)', 'Apellido 2(APEL2) (CHAR/000060)']].applymap(lambda x: x.replace('_', ' '))\n"
     ]
    }
   ],
   "source": [
    "# Función para separar nombres y apellidos persona natural\n",
    "def separar_nombres_apellidos(nombre_completo, tipo_persona):\n",
    "\n",
    "    if tipo_persona != 31:\n",
    "\n",
    "        nombre_completo = nombre_completo.replace(' de ', ' de_')\n",
    "        nombre_completo = nombre_completo.replace(' DE ', ' DE_')\n",
    "        nombre_completo = nombre_completo.replace(' De ', ' De_')\n",
    "\n",
    "        nombre_completo = nombre_completo.replace(' d ', ' d_')\n",
    "        nombre_completo = nombre_completo.replace(' D ', ' D_')\n",
    "\n",
    "        nombre_completo = nombre_completo.replace(' mc ', ' mc_')\n",
    "        nombre_completo = nombre_completo.replace(' MC ', ' MC_')\n",
    "        nombre_completo = nombre_completo.replace(' Mc ', ' Mc_')\n",
    "\n",
    "        nombre_completo = nombre_completo.replace(' del ', ' del_')\n",
    "        nombre_completo = nombre_completo.replace(' DEL ', ' DEL_')\n",
    "        nombre_completo = nombre_completo.replace(' Del ', ' Del_')\n",
    "\n",
    "        nombre_completo = nombre_completo.replace(' de la ', ' de_la_')\n",
    "        nombre_completo = nombre_completo.replace(' DE LA ', ' DE_LA_')\n",
    "        nombre_completo = nombre_completo.replace(' De La ', ' De_La_')\n",
    "        nombre_completo = nombre_completo.replace(' De la ', ' De_la_')\n",
    "        nombre_completo = nombre_completo.replace(' de_la ', ' de_la_')\n",
    "        nombre_completo = nombre_completo.replace(' DE_LA ', ' DE_LA_')\n",
    "        nombre_completo = nombre_completo.replace(' De_La ', ' De_La_')\n",
    "        nombre_completo = nombre_completo.replace(' De_la ', ' De_la_')\n",
    "\n",
    "        nombre_completo = nombre_completo.replace(' de las ', ' de_las_')\n",
    "        nombre_completo = nombre_completo.replace(' DE LAS ', ' DE_LAS_')\n",
    "        nombre_completo = nombre_completo.replace(' De Las ', ' De_Las_')\n",
    "        nombre_completo = nombre_completo.replace(' De las ', ' De_las_')\n",
    "        nombre_completo = nombre_completo.replace(' de_las ', ' de_las_')\n",
    "        nombre_completo = nombre_completo.replace(' DE_LAS ', ' DE_LAS_')\n",
    "        nombre_completo = nombre_completo.replace(' De_Las ', ' De_Las_')\n",
    "        nombre_completo = nombre_completo.replace(' De_las ', ' De_las_')\n",
    "        \n",
    "        nombre_completo = nombre_completo.replace(' de los ', ' de_los_')\n",
    "        nombre_completo = nombre_completo.replace(' DE LOS ', ' DE_LOS_')\n",
    "        nombre_completo = nombre_completo.replace(' De Los ', ' De_Los_')\n",
    "        nombre_completo = nombre_completo.replace(' De los ', ' De_los_')\n",
    "        nombre_completo = nombre_completo.replace(' de_los ', ' de_los_')\n",
    "        nombre_completo = nombre_completo.replace(' DE_LOS ', ' DE_LOS_')\n",
    "        nombre_completo = nombre_completo.replace(' De_Los ', ' De_Los_')\n",
    "        nombre_completo = nombre_completo.replace(' De_los ', ' De_los_')\n",
    "\n",
    "        # Doble espacio\n",
    "        nombre_completo = nombre_completo.replace(' de  la ', ' de_la_')\n",
    "        nombre_completo = nombre_completo.replace(' DE  LA ', ' DE_LA_')\n",
    "        nombre_completo = nombre_completo.replace(' De  La ', ' De_La_')\n",
    "        nombre_completo = nombre_completo.replace(' De  la ', ' De_la_')\n",
    "\n",
    "\n",
    "        nombre_completo = nombre_completo.replace(' de  las ', ' de_las_')\n",
    "        nombre_completo = nombre_completo.replace(' DE  LAS ', ' DE_LAS_')\n",
    "        nombre_completo = nombre_completo.replace(' De  Las ', ' De_Las_')\n",
    "        nombre_completo = nombre_completo.replace(' De  las ', ' De_las_')\n",
    "\n",
    "\n",
    "        nombre_completo = nombre_completo.replace(' de  los ', ' de_los_')\n",
    "        nombre_completo = nombre_completo.replace(' DE  LOS ', ' DE_LOS_')\n",
    "        nombre_completo = nombre_completo.replace(' De  Los ', ' De_Los_')\n",
    "        nombre_completo = nombre_completo.replace(' De  los ', ' De_los_')\n",
    "\n",
    "        # Cubrir errores\n",
    "        nombre_completo = nombre_completo.replace(' de lo ', ' de_lo_')\n",
    "        nombre_completo = nombre_completo.replace(' DE LO ', ' DE_LO_')\n",
    "        nombre_completo = nombre_completo.replace(' De Lo ', ' De_Lo_')\n",
    "        nombre_completo = nombre_completo.replace(' De lo ', ' De_lo_')\n",
    "        nombre_completo = nombre_completo.replace(' de_lo ', ' de_lo_')\n",
    "        nombre_completo = nombre_completo.replace(' DE_LO ', ' DE_LO_')\n",
    "        nombre_completo = nombre_completo.replace(' De_Lo ', ' De_Lo_')\n",
    "        nombre_completo = nombre_completo.replace(' De_lo ', ' De_lo_')\n",
    "\n",
    "        nombre_completo = nombre_completo.replace(' del la ', ' del_la_')\n",
    "        nombre_completo = nombre_completo.replace(' DEL LA ', ' DEL_LA_')\n",
    "        nombre_completo = nombre_completo.replace(' Del La ', ' Del_La_')\n",
    "        nombre_completo = nombre_completo.replace(' Del la ', ' Del_la_')\n",
    "        nombre_completo = nombre_completo.replace(' del_la ', ' del_la_')\n",
    "        nombre_completo = nombre_completo.replace(' DEL_LA ', ' DEL_LA_')\n",
    "        nombre_completo = nombre_completo.replace(' Del_La ', ' Del_La_')\n",
    "        nombre_completo = nombre_completo.replace(' Del_la ', ' Del_la_')\n",
    "\n",
    "        nombre_completo = nombre_completo.replace(' del las ', ' del_las_')\n",
    "        nombre_completo = nombre_completo.replace(' DEL LAS ', ' DEL_LAS_')\n",
    "        nombre_completo = nombre_completo.replace(' Del Las ', ' Del_Las_')\n",
    "        nombre_completo = nombre_completo.replace(' Del las ', ' Del_las_')\n",
    "        nombre_completo = nombre_completo.replace(' del_las ', ' del_las_')\n",
    "        nombre_completo = nombre_completo.replace(' DEL_LAS ', ' DEL_LAS_')\n",
    "        nombre_completo = nombre_completo.replace(' Del_Las ', ' Del_Las_')\n",
    "        nombre_completo = nombre_completo.replace(' Del_las ', ' Del_las_')\n",
    "\n",
    "        nombre_completo = nombre_completo.replace(' del los ', ' del_los_')\n",
    "        nombre_completo = nombre_completo.replace(' DEL LOS ', ' DEL_LOS_')\n",
    "        nombre_completo = nombre_completo.replace(' Del Los ', ' Del_Los_')\n",
    "        nombre_completo = nombre_completo.replace(' Del los ', ' Del_los_')\n",
    "        nombre_completo = nombre_completo.replace(' del_los ', ' del_los_')\n",
    "        nombre_completo = nombre_completo.replace(' DEL_LOS ', ' DEL_LOS_')\n",
    "        nombre_completo = nombre_completo.replace(' Del_Los ', ' Del_Los_')\n",
    "        nombre_completo = nombre_completo.replace(' Del_los ', ' Del_los_')\n",
    "\n",
    "        # Doble espacio\n",
    "        nombre_completo = nombre_completo.replace(' de  lo ', ' de_lo_')\n",
    "        nombre_completo = nombre_completo.replace(' DE  LO ', ' DE_LO_')\n",
    "        nombre_completo = nombre_completo.replace(' De  Lo ', ' De_Lo_')\n",
    "        nombre_completo = nombre_completo.replace(' De  lo ', ' De_lo_')\n",
    "\n",
    "        nombre_completo = nombre_completo.replace(' del  la ', ' del_la_')\n",
    "        nombre_completo = nombre_completo.replace(' DEL  LA ', ' DEL_LA_')\n",
    "        nombre_completo = nombre_completo.replace(' Del  La ', ' Del_La_')\n",
    "        nombre_completo = nombre_completo.replace(' Del  la ', ' Del_la_')\n",
    "\n",
    "        nombre_completo = nombre_completo.replace(' del  las ', ' del_las_')\n",
    "        nombre_completo = nombre_completo.replace(' DEL  LAS ', ' DEL_LAS_')\n",
    "        nombre_completo = nombre_completo.replace(' Del  Las ', ' Del_Las_')\n",
    "        nombre_completo = nombre_completo.replace(' Del  las ', ' Del_las_')\n",
    "\n",
    "        nombre_completo = nombre_completo.replace(' del  los ', ' del_los_')\n",
    "        nombre_completo = nombre_completo.replace(' DEL  LOS ', ' DEL_LOS_')\n",
    "        nombre_completo = nombre_completo.replace(' Del  Los ', ' Del_Los_')\n",
    "        nombre_completo = nombre_completo.replace(' Del  los ', ' Del_los_')\n",
    "\n",
    "        # Separar nombres y apellidos\n",
    "        partes = nombre_completo.split()\n",
    "\n",
    "        # Inicializar las variables\n",
    "        nombre1, nombre2, apellido1, apellido2 = '', '', '', ''\n",
    "\n",
    "        # \n",
    "        if len(partes) == 1:\n",
    "            nombre1 = partes[0]\n",
    "\n",
    "        # \n",
    "        if len(partes) == 2:\n",
    "            nombre1 = partes[0]\n",
    "            apellido1 = partes[-1]\n",
    "\n",
    "        # \n",
    "        if len(partes) == 3:\n",
    "            nombre1 = partes[0]\n",
    "            apellido1 = partes[-2]\n",
    "            apellido2 = partes[-1]\n",
    "\n",
    "        # \n",
    "        if len(partes) >= 4:\n",
    "            nombre1 = partes[0]\n",
    "            nombre2 = partes[1]\n",
    "            apellido1 = partes[-2]\n",
    "            apellido2 = partes[-1]\n",
    "\n",
    "        return nombre1, nombre2, apellido1, apellido2\n",
    "\n",
    "    else:\n",
    "\n",
    "        return '', '', '', ''\n",
    "    \n",
    "# Columnas Nombres y Apellidos\n",
    "detalle[['Nombre 1(NAME1) (CHAR/000060)', 'Nombre 2(NAME2) (CHAR/000060)', 'Apellido 1(APEL1) (CHAR/000060)', 'Apellido 2(APEL2) (CHAR/000060)']] = detalle.apply(lambda row: pd.Series(separar_nombres_apellidos(row['Nombre'], row['Tipo NIF'])), axis=1)\n",
    "detalle[['Nombre 1(NAME1) (CHAR/000060)', 'Nombre 2(NAME2) (CHAR/000060)', 'Apellido 1(APEL1) (CHAR/000060)', 'Apellido 2(APEL2) (CHAR/000060)']] = detalle[['Nombre 1(NAME1) (CHAR/000060)', 'Nombre 2(NAME2) (CHAR/000060)', 'Apellido 1(APEL1) (CHAR/000060)', 'Apellido 2(APEL2) (CHAR/000060)']].applymap(lambda x: x.replace('_', ' '))"
   ]
  },
  {
   "cell_type": "code",
   "execution_count": 9,
   "metadata": {},
   "outputs": [],
   "source": [
    "# Columna Razón Social\n",
    "detalle['Razón Social(RAZSC) (CHAR/000100)'] = np.select(\n",
    "    [detalle['Tipo NIF'] == 31],\n",
    "    [detalle['Nombre']],\n",
    "    default=\"\"\n",
    ")"
   ]
  },
  {
   "cell_type": "markdown",
   "metadata": {},
   "source": [
    "### Homologación de Municipio y Pais DIAN"
   ]
  },
  {
   "cell_type": "code",
   "execution_count": 10,
   "metadata": {},
   "outputs": [],
   "source": [
    "detalle = pd.merge(detalle, municipio, left_on=['Región','Población'], right_on=['Código Departamento','Municipio / Ciudad'], how='left')\n",
    "detalle = pd.merge(detalle, pais, left_on='País', right_on='País SAP', how='left')"
   ]
  },
  {
   "cell_type": "code",
   "execution_count": null,
   "metadata": {},
   "outputs": [],
   "source": [
    "detalle['Calle'] = np.select(\n",
    "    [detalle['País DIAN'] != \"169\"],\n",
    "    [\"\"],\n",
    "    default=detalle['Calle']\n",
    ")\n",
    "\n",
    "detalle['Región'] = np.select(\n",
    "    [detalle['País DIAN'] != \"169\"],\n",
    "    [\"\"],\n",
    "    default=detalle['Región']\n",
    ")\n",
    "\n",
    "detalle['Código Municipio'] = np.select(\n",
    "    [detalle['País DIAN'] != \"169\"],\n",
    "    [\"\"],\n",
    "    default=detalle['Código Municipio']\n",
    ")"
   ]
  },
  {
   "cell_type": "markdown",
   "metadata": {},
   "source": [
    "### Eliminación de Letras en Teléfono, Móvil y FAX"
   ]
  },
  {
   "cell_type": "code",
   "execution_count": 11,
   "metadata": {},
   "outputs": [],
   "source": [
    "detalle['Teléfono'] = detalle['Teléfono'].replace(regex=r'[^0-9]', value='')\n",
    "detalle['Teléfono'] = np.select(\n",
    "    [detalle['Teléfono'].str.len() <= 5],\n",
    "    [\"\"],\n",
    "    default=detalle['Teléfono']   \n",
    ")\n",
    "detalle['Tel. Mo.'] = detalle['Tel. Mo.'].replace(regex=r'[^0-9]', value='')\n",
    "detalle['Tel. Mo.'] = np.select(\n",
    "    [detalle['Tel. Mo.'].str.len() <= 5],\n",
    "    [\"\"],\n",
    "    default=detalle['Tel. Mo.']   \n",
    ")\n",
    "detalle['Fax'] = detalle['Fax'].replace(regex=r'[^0-9]', value='')\n",
    "detalle['Fax'] = np.select(\n",
    "    [detalle['Fax'].str.len() <= 5],\n",
    "    [\"\"],\n",
    "    default=detalle['Fax']   \n",
    ")"
   ]
  },
  {
   "cell_type": "markdown",
   "metadata": {},
   "source": [
    "### Verificación Empleados"
   ]
  },
  {
   "cell_type": "code",
   "execution_count": 12,
   "metadata": {},
   "outputs": [],
   "source": [
    "# Verificar si el registro se encuentra en la base de datos de empleados\n",
    "detalle['Empleado(ISEMP) (CHAR/000001)'] = np.select(\n",
    "    [detalle['N.I.F.1'].isin(empleados['Empleado GH']) == True],\n",
    "    [\"X\"],\n",
    "    default=\"\"\n",
    ")"
   ]
  },
  {
   "cell_type": "code",
   "execution_count": 13,
   "metadata": {},
   "outputs": [],
   "source": [
    "# Generación de columnas restantes (Vacías)\n",
    "detalle['Tercero del Exterior(ISTEREXT) (CHAR/000001)'] = \"\"\n",
    "detalle['Identificación(STCD1_U) (CHAR/000030)'] = \"\"\n",
    "detalle['Tipo de N.I.F.(STCDT_U) (CHAR/000002)'] = \"\"\n",
    "detalle['Fecha(DATCR) (DATS/000008)'] = \"\"\n",
    "detalle['Usuario(USRCR) (CHAR/000012)'] = \"\"\n",
    "detalle['Fecha(DATMD) (DATS/000008)'] = \"\"\n",
    "detalle['Usuario(USRMD) (CHAR/000012)'] = \"\""
   ]
  },
  {
   "cell_type": "markdown",
   "metadata": {},
   "source": [
    "### Estructura final de plantilla"
   ]
  },
  {
   "cell_type": "code",
   "execution_count": 14,
   "metadata": {},
   "outputs": [],
   "source": [
    "# Selección de las columnas necesarias para la plantilla\n",
    "plantilla = detalle[['Identificación(STCD1) (CHAR/000030)', 'Tipo NIF', 'Dígito Verificación(CODVER) (CHAR/000002)',\\\n",
    "                     'Nombre 1(NAME1) (CHAR/000060)', 'Nombre 2(NAME2) (CHAR/000060)', 'Apellido 1(APEL1) (CHAR/000060)',\\\n",
    "                     'Apellido 2(APEL2) (CHAR/000060)', 'Razón Social(RAZSC) (CHAR/000100)', 'Calle', 'Región',\\\n",
    "                     'Código Municipio', 'País DIAN', 'Correo electrónico', 'Teléfono', 'Tel. Mo.', 'Fax',\\\n",
    "                     'Empleado(ISEMP) (CHAR/000001)', 'Tercero del Exterior(ISTEREXT) (CHAR/000001)', 'Identificación(STCD1_U) (CHAR/000030)',\\\n",
    "                     'Tipo de N.I.F.(STCDT_U) (CHAR/000002)', 'Fecha(DATCR) (DATS/000008)', 'Usuario(USRCR) (CHAR/000012)',\\\n",
    "                     'Fecha(DATMD) (DATS/000008)', 'Usuario(USRMD) (CHAR/000012)']]"
   ]
  },
  {
   "cell_type": "code",
   "execution_count": 15,
   "metadata": {},
   "outputs": [],
   "source": [
    "# Cambio de nombre de las columnas a formato de la plantilla\n",
    "plantilla = plantilla.rename(columns={'Tipo NIF': 'Tipo de N.I.F.(STCDT) (CHAR/000002)',\n",
    "                                      'Calle': 'Dirección(ADRNR) (CHAR/000060)',\n",
    "                                      'Región': 'Población(REGIO) (CHAR/000035)',\n",
    "                                      'Código Municipio': 'Población(ORT01) (CHAR/000035)',\n",
    "                                      'País DIAN': 'Población(LAND1) (CHAR/000035)',\n",
    "                                      'Correo electrónico': 'Correo electr.(SMTPADR) (CHAR/000241)',\n",
    "                                      'Teléfono': 'Teléfono 1(TELF1) (CHAR/000016)',\n",
    "                                      'Tel. Mo.': 'Teléfono móvil(MOB_NUMBER) (CHAR/000030)',\n",
    "                                      'Fax': 'Fax(FAX_NUMBER) (CHAR/000030)',\n",
    "                                      })"
   ]
  },
  {
   "cell_type": "markdown",
   "metadata": {},
   "source": [
    "### Eliminar registros duplicados"
   ]
  },
  {
   "cell_type": "code",
   "execution_count": 16,
   "metadata": {},
   "outputs": [],
   "source": [
    "# Calcula la cantidad de celdas diferentes de vacío y diferentes de nulo por fila\n",
    "plantilla['Cantidad_de_Datos'] = ((plantilla.notna()) & (plantilla.ne(\"\"))).sum(axis=1)\n",
    "# Ordena el DataFrame por la cantidad de datos en orden descendente\n",
    "plantilla = plantilla.sort_values(by='Cantidad_de_Datos', ascending=False)\n",
    "resultado = plantilla.copy()\n",
    "# Elimina todos los duplicados y conserva el que tiene más datos (el primero en orden descendente)\n",
    "resultado = resultado.drop_duplicates(subset=['Identificación(STCD1) (CHAR/000030)'], keep='first')\n",
    "# Reinicia los índices después de eliminar filas\n",
    "resultado = resultado.reset_index(drop=True)\n",
    "# Elimina las columnas temporales creadas\n",
    "resultado = resultado.drop(['Cantidad_de_Datos'], axis=1)"
   ]
  },
  {
   "cell_type": "code",
   "execution_count": 18,
   "metadata": {},
   "outputs": [],
   "source": [
    "resultado.to_csv('Plantilla_prueba.csv', sep=';', encoding='utf-16-le', index=False)"
   ]
  }
 ],
 "metadata": {
  "kernelspec": {
   "display_name": "Python 3",
   "language": "python",
   "name": "python3"
  },
  "language_info": {
   "codemirror_mode": {
    "name": "ipython",
    "version": 3
   },
   "file_extension": ".py",
   "mimetype": "text/x-python",
   "name": "python",
   "nbconvert_exporter": "python",
   "pygments_lexer": "ipython3",
   "version": "3.11.3"
  }
 },
 "nbformat": 4,
 "nbformat_minor": 2
}
